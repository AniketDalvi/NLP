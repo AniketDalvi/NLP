{
 "cells": [
  {
   "cell_type": "code",
   "execution_count": 46,
   "metadata": {
    "collapsed": true
   },
   "outputs": [],
   "source": [
    "import numpy as np\n",
    "import gensim\n",
    "\n",
    "def lda(vocabulary, beta, alpha, xi, printFlag = True):\n",
    "    num_words = np.random.poisson(xi)\n",
    "    dirichlet = np.random.dirichlet(alpha)\n",
    "    num_topics = len(alpha)\n",
    "    if (printFlag):\n",
    "        print(\"Num of Words: {}\".format(num_words))\n",
    "        print(\"Topic Distribution: {}\".format(dirichlet))\n",
    "    document = []\n",
    "    for _ in range(num_words):\n",
    "        topic = np.random.choice(num_topics, p=dirichlet)\n",
    "        word_dist = beta[topic]\n",
    "        word = np.random.choice(vocabulary, p=word_dist)\n",
    "        document.append(word)\n",
    "    return document"
   ]
  },
  {
   "cell_type": "code",
   "execution_count": 47,
   "outputs": [
    {
     "name": "stdout",
     "output_type": "stream",
     "text": [
      "Num of Words: 52\n",
      "Topic Distribution: [0.0676924  0.30212408 0.63018352]\n",
      "Document for Q1: bass tuba pike deep horn catapult tuba deep bass deep tuba pike horn tuba horn horn pike bass deep horn bass pike catapult bass deep bass bass catapult horn pike horn deep tuba bass pike deep catapult bass horn horn bass catapult pike pike bass horn pike deep deep pike tuba deep\n"
     ]
    }
   ],
   "source": [
    "vocabulary = ['bass', 'pike', 'deep', 'tuba', 'horn', 'catapult']\n",
    "beta = np.array([\n",
    "[0.4, 0.4, 0.2, 0.0, 0.0, 0.0],\n",
    "[0.0, 0.3, 0.1, 0.0, 0.3, 0.3],\n",
    "[0.3, 0.0, 0.2, 0.3, 0.2, 0.0]\n",
    "])\n",
    "alpha = np.array([1, 3, 8])\n",
    "xi = 50\n",
    "document = lda(vocabulary, beta, alpha, xi)\n",
    "print(\"Document for Q1: \" + (\" \".join(document)).strip())"
   ],
   "metadata": {
    "collapsed": false,
    "pycharm": {
     "name": "#%%\n"
    }
   }
  },
  {
   "cell_type": "code",
   "execution_count": 48,
   "outputs": [
    {
     "name": "stdout",
     "output_type": "stream",
     "text": [
      "Learnt Beta:\n",
      "[('pike', 0.3918084), ('catapult', 0.19643642), ('bass', 0.1914098), ('horn', 0.11623159), ('deep', 0.08610583), ('tuba', 0.018008059)]\n",
      "[('bass', 0.25454065), ('tuba', 0.22923991), ('horn', 0.20607078), ('deep', 0.19505307), ('pike', 0.07129663), ('catapult', 0.043799013)]\n",
      "[('horn', 0.29902488), ('catapult', 0.26223847), ('pike', 0.1896851), ('deep', 0.13503475), ('tuba', 0.078078814), ('bass', 0.03593799)]\n"
     ]
    }
   ],
   "source": [
    "num_documents = 500\n",
    "documents = []\n",
    "for _ in range(num_documents):\n",
    "    documents.append(lda(vocabulary, beta, alpha, xi, False))\n",
    "\n",
    "dict = gensim.corpora.Dictionary(documents)\n",
    "corpus = [dict.doc2bow(doc) for doc in documents]\n",
    "ldamodel = gensim.models.LdaModel(corpus, alpha='auto', eta='auto', num_topics=3, id2word = dict, passes=50, iterations=400)\n",
    "print(\"Learnt Beta:\")\n",
    "print(ldamodel.show_topic(0))\n",
    "print(ldamodel.show_topic(1))\n",
    "print(ldamodel.show_topic(2))"
   ],
   "metadata": {
    "collapsed": false,
    "pycharm": {
     "name": "#%%\n"
    }
   }
  }
 ],
 "metadata": {
  "kernelspec": {
   "name": "pycharm-1ba3fe49",
   "language": "python",
   "display_name": "PyCharm (HW2)"
  },
  "language_info": {
   "codemirror_mode": {
    "name": "ipython",
    "version": 2
   },
   "file_extension": ".py",
   "mimetype": "text/x-python",
   "name": "python",
   "nbconvert_exporter": "python",
   "pygments_lexer": "ipython2",
   "version": "2.7.6"
  }
 },
 "nbformat": 4,
 "nbformat_minor": 0
}