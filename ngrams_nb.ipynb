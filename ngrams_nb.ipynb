{
 "cells": [
  {
   "cell_type": "code",
   "execution_count": 1,
   "metadata": {
    "collapsed": true
   },
   "outputs": [],
   "source": [
    "import nltk\n",
    "import random"
   ]
  },
  {
   "cell_type": "code",
   "execution_count": 2,
   "outputs": [],
   "source": [
    "# build dictionary once using corpus\n",
    "def create_prob_dict(n, corpus, deterministic):\n",
    "    dict = {}\n",
    "    for window_begin in range(len(corpus)-n):\n",
    "        window_end = window_begin+n\n",
    "        slice = corpus[window_begin:window_end]\n",
    "        dict_key = tuple(slice[:n-1])\n",
    "        dict_val_key = slice[n-1]\n",
    "        if dict_key in dict:\n",
    "            dict_val = dict[dict_key]\n",
    "            if dict_val_key in dict_val:\n",
    "                dict_val[dict_val_key] += 1\n",
    "            else:\n",
    "                dict_val[dict_val_key] = 1\n",
    "        else:\n",
    "            dict[dict_key] = {dict_val_key: 1}\n",
    "    return dict"
   ],
   "metadata": {
    "collapsed": false,
    "pycharm": {
     "name": "#%%\n"
    }
   }
  },
  {
   "cell_type": "code",
   "execution_count": 3,
   "outputs": [],
   "source": [
    "def finish_sentence(sentence, n, corpus, deterministic=False):\n",
    "    fin_sentence = sentence\n",
    "    dict = create_prob_dict(n, corpus, deterministic)\n",
    "    while(True):\n",
    "        n_gram = tuple(fin_sentence[-(n-1):])\n",
    "        if n_gram in dict:\n",
    "            ret_word = find_word(n_gram, dict, deterministic)\n",
    "            fin_sentence.append(ret_word)\n",
    "        else:\n",
    "            # stupid backoff\n",
    "            curr_n = n\n",
    "            while(curr_n > 0):\n",
    "                if(curr_n==1):\n",
    "                    fin_sentence.append(max(set(corpus), key = corpus.count) )\n",
    "                    break\n",
    "                dict.update(create_prob_dict(curr_n, corpus, deterministic))\n",
    "                curr_n_gram = tuple(fin_sentence[-(curr_n-1):])\n",
    "                if curr_n_gram in dict:\n",
    "                    ret_word_n = find_word(curr_n_gram, dict, deterministic)\n",
    "                    fin_sentence.append(ret_word_n)\n",
    "                    break\n",
    "                else:\n",
    "                    curr_n-=1\n",
    "                    continue\n",
    "        if(fin_sentence[-1][0] == '.' or len(fin_sentence)==15):\n",
    "            break;\n",
    "    return fin_sentence\n"
   ],
   "metadata": {
    "collapsed": false,
    "pycharm": {
     "name": "#%%\n"
    }
   }
  },
  {
   "cell_type": "code",
   "execution_count": 4,
   "outputs": [],
   "source": [
    "def find_word(n_gram, dict, deterministic):\n",
    "    possible_words = dict[n_gram]\n",
    "    max_count = 0\n",
    "    ret_word = ''\n",
    "    if(deterministic):\n",
    "        for word in possible_words:\n",
    "            # choose word with max count\n",
    "            if(possible_words[word] > max_count):\n",
    "                max_count = possible_words[word]\n",
    "                ret_word = word\n",
    "            elif(possible_words[word] == max_count):\n",
    "                # tie breaking to choose lesser word\n",
    "                if(word<ret_word):\n",
    "                    ret_word = word\n",
    "    else:\n",
    "        # choosing from distribution for non-deterministic case\n",
    "        dict_keys = list(possible_words.keys())\n",
    "        dict_values = list(possible_words.values())\n",
    "        ret_word = random.choices(dict_keys, weights=dict_values)[0]\n",
    "    return ret_word"
   ],
   "metadata": {
    "collapsed": false,
    "pycharm": {
     "name": "#%%\n"
    }
   }
  },
  {
   "cell_type": "code",
   "execution_count": 6,
   "outputs": [
    {
     "name": "stdout",
     "output_type": "stream",
     "text": [
      "['she', 'was', 'not', 'in', 'the', 'world', ',', 'and', 'the', 'two', 'miss', 'steeles', ',', 'as', 'she']\n"
     ]
    }
   ],
   "source": [
    "sentence = ['she', 'was', 'not']\n",
    "n = 3\n",
    "corpus = [\n",
    "    w.lower() for w in\n",
    "    nltk.corpus.gutenberg.words('austen-sense.txt')\n",
    "]\n",
    "result = finish_sentence(sentence, n, corpus, True)\n",
    "print(result)"
   ],
   "metadata": {
    "collapsed": false,
    "pycharm": {
     "name": "#%%\n"
    }
   }
  }
 ],
 "metadata": {
  "kernelspec": {
   "name": "pycharm-1ba3fe49",
   "language": "python",
   "display_name": "PyCharm (HW2)"
  },
  "language_info": {
   "codemirror_mode": {
    "name": "ipython",
    "version": 2
   },
   "file_extension": ".py",
   "mimetype": "text/x-python",
   "name": "python",
   "nbconvert_exporter": "python",
   "pygments_lexer": "ipython2",
   "version": "2.7.6"
  }
 },
 "nbformat": 4,
 "nbformat_minor": 0
}