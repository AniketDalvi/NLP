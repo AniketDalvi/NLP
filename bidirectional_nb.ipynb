{
 "cells": [
  {
   "cell_type": "code",
   "execution_count": 11,
   "metadata": {
    "collapsed": true
   },
   "outputs": [
    {
     "name": "stderr",
     "output_type": "stream",
     "text": [
      "[nltk_data] Downloading package gutenberg to C:\\Users\\Aniket\n",
      "[nltk_data]     Dalvi\\AppData\\Roaming\\nltk_data...\n",
      "[nltk_data]   Package gutenberg is already up-to-date!\n"
     ]
    },
    {
     "data": {
      "text/plain": "True"
     },
     "execution_count": 11,
     "metadata": {},
     "output_type": "execute_result"
    }
   ],
   "source": [
    "import nltk\n",
    "nltk.download('gutenberg')"
   ]
  },
  {
   "cell_type": "code",
   "execution_count": 12,
   "outputs": [],
   "source": [
    "def pigalatin(word):\n",
    "    if(word.isalpha()):\n",
    "        if(word[0] in {'a','e','i','o','u'}):\n",
    "            return word + 'way'\n",
    "        else:\n",
    "            index = -1\n",
    "            for i in range(len(word)):\n",
    "                if(word[i] in {'a','e','i','o','u'}):\n",
    "                    index = i\n",
    "                    break\n",
    "            if (index != -1):\n",
    "                return word[i:] + word[0:i] + 'ay'\n",
    "            else:\n",
    "                return word + 'ay'\n",
    "    else:\n",
    "        return word\n",
    "orig_words = [w.lower() for w in nltk.corpus.gutenberg.words('austen-sense.txt')]\n",
    "transformed_words = [pigalatin(word) for word in orig_words]\n"
   ],
   "metadata": {
    "collapsed": false,
    "pycharm": {
     "name": "#%%\n"
    }
   }
  }
 ],
 "metadata": {
  "kernelspec": {
   "display_name": "Python 3",
   "language": "python",
   "name": "python3"
  },
  "language_info": {
   "codemirror_mode": {
    "name": "ipython",
    "version": 2
   },
   "file_extension": ".py",
   "mimetype": "text/x-python",
   "name": "python",
   "nbconvert_exporter": "python",
   "pygments_lexer": "ipython2",
   "version": "2.7.6"
  }
 },
 "nbformat": 4,
 "nbformat_minor": 0
}