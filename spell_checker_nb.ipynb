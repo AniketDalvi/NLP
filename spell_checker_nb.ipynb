{
 "cells": [
  {
   "cell_type": "code",
   "execution_count": 75,
   "outputs": [],
   "source": [
    "import sys\n",
    "from collections import Counter\n",
    "\n",
    "def edit_dist(str1, str2):\n",
    "    m = len(str1)\n",
    "    n = len(str2)\n",
    "    mem = [[0 for x in range(n + 1)] for x in range(m + 1)]\n",
    "    for i in range(m + 1):\n",
    "        for j in range(n + 1):\n",
    "            if i == 0:\n",
    "                mem[i][j] = j\n",
    "            elif j == 0:\n",
    "                mem[i][j] = i\n",
    "            elif str1[i-1] == str2[j-1]:\n",
    "                mem[i][j] = mem[i-1][j-1]\n",
    "            else:\n",
    "                mem[i][j] = 1 + min(mem[i][j-1],\n",
    "                                   mem[i-1][j],\n",
    "                                   mem[i-1][j-1])\n",
    "\n",
    "    return mem[m][n]\n",
    "\n",
    "def find_best_match(all_best_matches):\n",
    "    freq = 0\n",
    "    match_found = all_best_matches[0]\n",
    "    for match in all_best_matches:\n",
    "        if(match in freq_counter):\n",
    "            if(freq_counter[match] > freq):\n",
    "                freq = freq_counter[match]\n",
    "                match_found = match\n",
    "    return match_found"
   ],
   "metadata": {
    "collapsed": false,
    "pycharm": {
     "name": "#%%\n"
    }
   }
  },
  {
   "cell_type": "code",
   "execution_count": 76,
   "metadata": {
    "collapsed": true
   },
   "outputs": [],
   "source": [
    "dictionary = set(line.strip() for line in open('words_alpha.txt'))\n",
    "f = open('austen-sense-corrupted.txt', 'r')\n",
    "raw_data = f.read()\n",
    "f.close()"
   ]
  },
  {
   "cell_type": "code",
   "execution_count": 77,
   "outputs": [
    {
     "name": "stdout",
     "output_type": "stream",
     "text": [
      "Tokens:\n",
      "['[', 'Sense', ' ', 'and', ' ', 'Sensibility', ' ', 'by', ' ', 'Jane', ' ', 'Austen', ' ', '1811', ']', '\\n', '\\n', 'CHAPOTER', ' ', '1', '\\n', '\\n', '\\n', 'The', ' ', 'family', ' ', 'of', ' ', 'Dashwood', ' ', 'had', ' ', 'long', ' ', 'been', ' ', 'settled', ' ', 'i', ' ', 'Sussex', '.', '\\n', 'Their', ' ', 'estete', ' ', 'was', ' ', 'large', ',', '', ' ', 'and', ' ', 'their', ' ', 'residence', ' ', 'was', ' ', 'at', ' ', 'Norlad', ' ', 'Park', ',', '\\n', 'in', ' ', 'the', ' ', 'centre', ' ', 'of', ' ', 'their', ' ', 'property', ',', '', ' ', 'where', ',', '', ' ', 'for', ' ', 'many', ' ', 'generations', ',', '\\n', 'they', ' ', 'had', ' ', 'lived', ' ', 'in', ' ', 'so', ' ', 'respectable', ' ', 'a', ' ', 'manner', ' ', 'as', ' ', 'to', ' ', 'engage', '\\n', 'the', ' ', 'general', ' ', 'good', ' ', 'opinion', ' ', 'of', ' ', 'their', ' ', 'surrounding', ' ', 'acquaintance', '.', '\\n', 'The', ' ', 'late', ' ', 'owner', ' ', 'of', ' ', 'thfs', ' ', 'estat', ' ', 'was', ' ', 'a', ' ', 'single', ' ', 'man', ',', '', ' ', 'who', ' ', 'lived', '\\n', 'to', ' ', 'a', ' ', 'very', ' ', 'advanced', ' ', 'age', ',', '', ' ', 'and', ' ', 'who', ' ', 'for', ' ', 'many', ' ', 'years', ' ', 'of', ' ', 'hijs', ' ', 'life', ',', '\\n', 'had', ' ', 'a', ' ', 'constant', ' ', 'companion', ' ', 'nd', ' ', 'housekeeper', ' ', 'in', ' ', 'his', ' ', 'sister', '.', '\\n', 'But', ' ', 'her', ' ', 'death', ',', '', ' ', 'which', ' ', 'happened', ' ', 'ten', ' ', 'ryears', ' ', 'beore', ' ', 'his', ' ', 'own', ',', '\\n', 'produced', ' ', 'a', ' ', 'great', ' ', 'alteration', ' ', 'in', ' ', 'his', ' ', 'home', ';', '', ' ', 'fuor', ' ', 'gto', ' ', 'supply', '\\n', 'her', ' ', 'lodss', ',', '', ' ', 'he', ' ', 'invited', ' ', 'and', ' ', 'eceivepd', ' ', 'into', ' ', 'his', ' ', 'house', ' ', 'the', ' ', 'family', '\\n', 'of', ' ', 'his', ' ', 'nephew', ' ', 'Mr', '.', '', ' ', 'Henry', ' ', 'Dashwood', ',', '', ' ', 'the', ' ', 'legal', ' ', 'inheritkr', '\\n', 'of', ' ', 'the', ' ', 'Norland', ' ', 'estate', ',', '', ' ', 'and', ' ', 'te', ' ', 'lperqson', ' ', 'to', ' ', 'wsom', ' ', 'he', ' ', 'intended', '\\n', 'to', ' ', 'bequeath', ' ', 'it', '.', '', ' ', '', ' ', 'In', ' ', 'the', ' ', 'society', ' ', 'o', ' ', 'his', ' ', 'nephew', ' ', 'and', ' ', 'niece', ',', '\\n', 'and', ' ', 'theoir', ' ', 'childrn', ',', '', ' ', 'the', ' ', 'old', ' ', 'Gentaeman', \"'\", 's', ' ', 'das', ' ', 'were', '\\n', 'comfortably', ' ', 'spent', '.', '', ' ', '', ' ', 'His', ' ', 'attacsment', ' ', 'to', ' ', 'them', ' ', 'all', ' ', 'increased', '.', '\\n', 'The', ' ', 'consmant', ' ', 'attention', ' ', 'of', ' ', 'Mr', '.', '', ' ', 'and', ' ', 'Mrs', '.', '', ' ', 'Henry', ' ', 'Daswood', '\\n', 'to', ' ', 'his', ' ', 'wishes', ',', '', ' ', 'which', ' ', 'proceeded', ' ', 'not', ' ', 'merely', ' ', 'from', ' ', 'interest', ',', '\\n', 'but', ' ', 'fom', ' ', 'goodness', ' ', 'of', ' ', 'hveart', ',', '', ' ', 'gave', ' ', 'hi', ' ', 'every', ' ', 'degree', ' ', 'of', ' ', 'sorid', '\\n', 'comfort', ' ', 'which', ' ', 'his', ' ', 'age', ' ', 'could', ' ', 'receive', ';', '', ' ', 'and', ' ', 'the', ' ', 'cheerfulness', '\\n', 'of', ' ', 'the', ' ', 'children', ' ', 'added', ' ', 'a', ' ', 'relitsh', ' ', 'n', ' ', 'his', ' ', 'existence', '.', '\\n', '\\n', 'By', ' ', 'a']\n"
     ]
    }
   ],
   "source": [
    "delims = ['\\n', '.', '!', '?', ',', ';', ':', '-', '[', ']', '{', '}', '(', ')', '\"', \"'\", ' ']\n",
    "tokenized_data = [raw_data]\n",
    "for delim in delims:\n",
    "    temp = []\n",
    "    for data in tokenized_data:\n",
    "        if(data == ''):\n",
    "            continue\n",
    "        split_data = data.split(delim)\n",
    "        res = [delim] * (2 * len(split_data) - 1)\n",
    "        res[::2] = split_data\n",
    "        split_data = res\n",
    "        temp = temp + split_data\n",
    "        split_data.clear()\n",
    "    tokenized_data = temp\n",
    "tokenized_data = tokenized_data[:500]\n",
    "print(\"Tokens:\")\n",
    "print(tokenized_data)"
   ],
   "metadata": {
    "collapsed": false,
    "pycharm": {
     "name": "#%%\n"
    }
   }
  },
  {
   "cell_type": "code",
   "execution_count": 78,
   "outputs": [
    {
     "name": "stdout",
     "output_type": "stream",
     "text": [
      "Original: Austen, Corrected: austin\n",
      "Original: CHAPOTER, Corrected: CHAPOTE\n",
      "Original: Dashwood, Corrected: casewood\n",
      "Original: estete, Corrected: estate\n",
      "Original: Norlad, Corrected: norland\n",
      "Original: thfs, Corrected: this\n",
      "Original: estat, Corrected: estate\n",
      "Original: hijs, Corrected: his\n",
      "Original: ryears, Corrected: years\n",
      "Original: beore, Corrected: blore\n",
      "Original: fuor, Corrected: for\n",
      "Original: gto, Corrected: to\n",
      "Original: lodss, Corrected: lodes\n",
      "Original: eceivepd, Corrected: received\n",
      "Original: inheritkr, Corrected: inheritor\n",
      "Original: lperqson, Corrected: person\n",
      "Original: wsom, Corrected: woom\n",
      "Original: theoir, Corrected: their\n",
      "Original: childrn, Corrected: children\n",
      "Original: Gentaeman, Corrected: gentleman\n",
      "Original: attacsment, Corrected: attachment\n",
      "Original: consmant, Corrected: constant\n",
      "Original: Daswood, Corrected: diswood\n",
      "Original: fom, Corrected: for\n",
      "Original: hveart, Corrected: heart\n",
      "Original: sorid, Corrected: borid\n",
      "Original: relitsh, Corrected: relish\n"
     ]
    }
   ],
   "source": [
    "temp_tokenized_data = [x.lower() for x in tokenized_data]\n",
    "freq_counter = dict(Counter(temp_tokenized_data))\n",
    "\n",
    "corrected_text = []\n",
    "local_dictionary = {}\n",
    "for token in tokenized_data:\n",
    "    if(not token.isalpha()):\n",
    "        corrected_text.append(token)\n",
    "    else:\n",
    "        if(token.lower() in dictionary):\n",
    "            corrected_text.append(token)\n",
    "        elif(token in local_dictionary):\n",
    "            corrected_text.append(local_dictionary[token])\n",
    "        else:\n",
    "            best_matches = []\n",
    "            best_dist = sys.maxsize\n",
    "            if(token.islower() or token.isupper()):\n",
    "                for word in dictionary:\n",
    "                    dist = edit_dist(token.lower(), word)\n",
    "                    if(dist<best_dist):\n",
    "                        best_matches.clear()\n",
    "                        best_matches.append(word)\n",
    "                        best_dist = dist\n",
    "                    elif(dist==best_dist):\n",
    "                        best_matches.append(word)\n",
    "                best_match = find_best_match(best_matches)\n",
    "                if(token.isupper()):\n",
    "                    best_match = best_match.upper()\n",
    "                corrected_text.append(best_match)\n",
    "                local_dictionary[token] = best_match\n",
    "            else:\n",
    "                for word in dictionary:\n",
    "                    dist = edit_dist(token.lower(), word)\n",
    "                    if(dist<best_dist):\n",
    "                        best_matches.clear()\n",
    "                        best_matches.append(word)\n",
    "                        best_dist = dist\n",
    "                    elif(dist==best_dist):\n",
    "                        best_matches.append(word)\n",
    "                if(best_dist > len(token)/2):\n",
    "                    corrected_text.append(token)\n",
    "                    local_dictionary[token] = token\n",
    "                else:\n",
    "                    best_match = find_best_match(best_matches)\n",
    "                    corrected_text.append(best_match)\n",
    "                    local_dictionary[token] = best_match\n",
    "            print(\"Original: \" + token + \", Corrected: \" + best_match)"
   ],
   "metadata": {
    "collapsed": false,
    "pycharm": {
     "name": "#%%\n"
    }
   }
  },
  {
   "cell_type": "code",
   "execution_count": 79,
   "outputs": [],
   "source": [
    "output_text = ''.join(corrected_text)\n",
    "f = open('austen-sense-correct.txt', 'wt')\n",
    "f.write(output_text)\n",
    "f.close()"
   ],
   "metadata": {
    "collapsed": false,
    "pycharm": {
     "name": "#%%\n"
    }
   }
  }
 ],
 "metadata": {
  "kernelspec": {
   "display_name": "Python 3",
   "language": "python",
   "name": "python3"
  },
  "language_info": {
   "codemirror_mode": {
    "name": "ipython",
    "version": 2
   },
   "file_extension": ".py",
   "mimetype": "text/x-python",
   "name": "python",
   "nbconvert_exporter": "python",
   "pygments_lexer": "ipython2",
   "version": "2.7.6"
  }
 },
 "nbformat": 4,
 "nbformat_minor": 0
}